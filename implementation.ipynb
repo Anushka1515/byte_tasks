{
  "nbformat": 4,
  "nbformat_minor": 0,
  "metadata": {
    "colab": {
      "provenance": [],
      "include_colab_link": true
    },
    "kernelspec": {
      "name": "python3",
      "display_name": "Python 3"
    },
    "language_info": {
      "name": "python"
    }
  },
  "cells": [
    {
      "cell_type": "markdown",
      "metadata": {
        "id": "view-in-github",
        "colab_type": "text"
      },
      "source": [
        "<a href=\"https://colab.research.google.com/github/Anushka1515/byte_tasks/blob/main/implementation.ipynb\" target=\"_parent\"><img src=\"https://colab.research.google.com/assets/colab-badge.svg\" alt=\"Open In Colab\"/></a>"
      ]
    },
    {
      "cell_type": "markdown",
      "source": [
        "# ***Problem statement***\n",
        "\n",
        "\n",
        "1.   you are provided with a .csv file which contains experience of the employee (in months) and the salary of the employee (in thousand).\n",
        "2.   Your task is to help the employer in predicting the salary he has to give to a employee based on his past experience\n",
        "3. For this you need to understand the basic principle and functionining of linear regression and complete the functions below.\n",
        "4. IT IS IMPORTANT TO COMPLETE EVERY BLOCK OF CODE IN THIS COLAB FILE ."
      ],
      "metadata": {
        "id": "KNIPiXrxZqfO"
      }
    },
    {
      "cell_type": "markdown",
      "source": [
        "# **Packages**"
      ],
      "metadata": {
        "id": "8qeCfaccZsaZ"
      }
    },
    {
      "cell_type": "code",
      "source": [
        "import numpy as np\n",
        "import pandas as pd\n",
        "import matplotlib.pyplot as plt\n",
        "import math\n",
        "import copy"
      ],
      "metadata": {
        "id": "ebvnIRpvMJYB"
      },
      "execution_count": 4,
      "outputs": []
    },
    {
      "cell_type": "markdown",
      "source": [
        " **import data file**\n",
        "\n",
        " **clean the data upto 2 decimal places for both experience and salary columns**\n",
        "\n",
        "**test size = 20%**\n",
        "\n",
        "**reshape the values by using concept of feature matrix**"
      ],
      "metadata": {
        "id": "N-X4Gc1vZ1uV"
      }
    },
    {
      "cell_type": "code",
      "source": [
        "\n",
        "#implement this code on your own\n",
        "data = pd.read_csv(\"/content/Experience-Salary.csv\")\n",
        "#  code starts here\n",
        "data\n",
        "data_cleaned=data.round(2)\n",
        "data_cleaned = data_cleaned.rename(columns={'exp(in months)': 'experiance'})\n",
        "data_cleaned=data_cleaned.rename(columns={'salary(in thousands)':'salary'})\n",
        "data_cleaned\n",
        "X=data_cleaned.experiance\n",
        "y=data_cleaned.salary\n",
        "from sklearn.model_selection import train_test_split\n",
        "X_train,X_test,y_train,y_teat=train_test_split(X,y,test_size=0.2)\n",
        "\n",
        "\n",
        "# code ends here"
      ],
      "metadata": {
        "id": "a0XfWVdgMVEi"
      },
      "execution_count": 9,
      "outputs": []
    },
    {
      "cell_type": "code",
      "source": [
        "# Run this code without making any changes\n",
        "\n",
        "\n",
        "# !!!!       IMP   !!!!!!!\n",
        "# X_train refers to the training data ( experience) for the model\n",
        "# y_train refers to the training data (salary )   for the model\n",
        "\n",
        "\n",
        "\n",
        "\n",
        "\n",
        "print(\"Type of x_train:\",type(X_train))\n",
        "print(\"First five elements of x_train are:\\n\", X_train[:5])\n",
        "print(\"Type of y_train:\",type(y_train))\n",
        "print(\"First five elements of y_train are:\\n\", y_train[:5])\n",
        "print ('The shape of x_train is:', X_train.shape)\n",
        "print ('The shape of y_train is: ', y_train.shape)\n",
        "print ('Number of training examples (m):', len(X_train))"
      ],
      "metadata": {
        "id": "k4SpESsHaBfV",
        "outputId": "f9e67f77-8d43-4748-e9ba-8df86d29d9d3",
        "colab": {
          "base_uri": "https://localhost:8080/"
        }
      },
      "execution_count": 10,
      "outputs": [
        {
          "output_type": "stream",
          "name": "stdout",
          "text": [
            "Type of x_train: <class 'pandas.core.series.Series'>\n",
            "First five elements of x_train are:\n",
            " 755    22.69\n",
            "136    24.08\n",
            "886    25.01\n",
            "228    39.16\n",
            "843    22.29\n",
            "Name: experiance, dtype: float64\n",
            "Type of y_train: <class 'pandas.core.series.Series'>\n",
            "First five elements of y_train are:\n",
            " 755    18.38\n",
            "136    27.84\n",
            "886    21.71\n",
            "228    45.22\n",
            "843    25.74\n",
            "Name: salary, dtype: float64\n",
            "The shape of x_train is: (800,)\n",
            "The shape of y_train is:  (800,)\n",
            "Number of training examples (m): 800\n"
          ]
        }
      ]
    },
    {
      "cell_type": "markdown",
      "source": [
        " Plot the data using scatter plot\n",
        "\n"
      ],
      "metadata": {
        "id": "UbvfFHJeaLdt"
      }
    },
    {
      "cell_type": "code",
      "source": [
        "#plot data for visualisation\n",
        "\n",
        "###code starts here\n",
        "%matplotlib inline\n",
        "plt.xlabel(\"experiance\")\n",
        "plt.ylabel(\"salary\")\n",
        "plt.scatter(data_cleaned.experiance,data_cleaned.salary,color='red',marker='+')\n",
        "\n",
        "\n",
        "\n",
        "\n",
        "\n",
        "###code ends here"
      ],
      "metadata": {
        "id": "d2m_1Ls_NZEX",
        "outputId": "394ff04d-8cc0-429e-ac2c-18a07b162f5c",
        "colab": {
          "base_uri": "https://localhost:8080/",
          "height": 466
        }
      },
      "execution_count": 11,
      "outputs": [
        {
          "output_type": "execute_result",
          "data": {
            "text/plain": [
              "<matplotlib.collections.PathCollection at 0x791727cf82e0>"
            ]
          },
          "metadata": {},
          "execution_count": 11
        },
        {
          "output_type": "display_data",
          "data": {
            "text/plain": [
              "<Figure size 640x480 with 1 Axes>"
            ],
            "image/png": "[encoded data removed]"
          },
          "metadata": {}
        }
      ]
    },
    {
      "cell_type": "markdown",
      "source": [
        "**Implementation 1**\n",
        "\n",
        "**complete the compute_cost() function below to compute the cost  𝐽(𝑤,𝑏)\n",
        " .**"
      ],
      "metadata": {
        "id": "Mvsnf95XaSUS"
      }
    },
    {
      "cell_type": "code",
      "source": [
        "\n",
        "\n",
        "\n",
        "def compute_cost(x, y, w, b):\n",
        "    \"\"\"\n",
        "    Computes the cost function for linear regression.\n",
        "\n",
        "    Args:\n",
        "        x (ndarray): Shape (m,) Input to the model (experience in months)\n",
        "        y (ndarray): Shape (m,) Label (Actual salaries)\n",
        "        w, b (scalar): Parameters of the model\n",
        "\n",
        "    Returns\n",
        "        total_cost (float): The cost of using w,b as the parameters for linear regression\n",
        "               to fit the data points in x and y\n",
        "    \"\"\"\n",
        "    # number of training examples\n",
        "    m = x.shape[0]\n",
        "\n",
        "    # You need to return this variable correctly\n",
        "    total_cost = 0\n",
        "\n",
        "    ### START CODE HERE ###\n",
        "\n",
        "    y_predicted=w*x+b\n",
        "    total_cost = (1/(2*m)) * np.sum((y_predicted - y)**2)\n",
        "\n",
        "    ### END CODE HERE ###\n",
        "\n",
        "    return total_cost"
      ],
      "metadata": {
        "id": "5xjs02htOBkv"
      },
      "execution_count": 12,
      "outputs": []
    },
    {
      "cell_type": "code",
      "source": [
        "# Compute cost with some initial values for paramaters w, b\n",
        "# Do not change the values in this code , simply run this block\n",
        "initial_w = 0.9998\n",
        "initial_b = 1\n",
        "\n",
        "cost = compute_cost(X_train, y_train, initial_w, initial_b)\n",
        "print(type(cost))\n",
        "print(cost)\n",
        "\n",
        "\n",
        "#output for cost should be around 14.406"
      ],
      "metadata": {
        "id": "iSt1tnddOH9b",
        "outputId": "0f84a863-3253-4246-9de3-1c1464474fbc",
        "colab": {
          "base_uri": "https://localhost:8080/"
        }
      },
      "execution_count": 13,
      "outputs": [
        {
          "output_type": "stream",
          "name": "stdout",
          "text": [
            "<class 'numpy.float64'>\n",
            "14.55986575962585\n"
          ]
        }
      ]
    },
    {
      "cell_type": "markdown",
      "source": [
        "**Imlementation 2**\n",
        "\n",
        "\n",
        "**implement a function called compute_gradient which calculates  ∂𝐽(𝑤)∂𝑤\n",
        " ,  ∂𝐽(𝑤)∂𝑏**"
      ],
      "metadata": {
        "id": "hHtMa0UxavUE"
      }
    },
    {
      "cell_type": "code",
      "source": [
        "def compute_gradient(x, y, w, b):\n",
        "    \"\"\"\n",
        "    Computes the gradient for linear regression\n",
        "    Args:\n",
        "      x (ndarray): Shape (m,) Input to the model (Population of cities)\n",
        "      y (ndarray): Shape (m,) Label (Actual profits for the cities)\n",
        "      w, b (scalar): Parameters of the model\n",
        "    Returns\n",
        "      dj_dw (scalar): The gradient of the cost w.r.t. the parameters w\n",
        "      dj_db (scalar): The gradient of the cost w.r.t. the parameter b\n",
        "     \"\"\"\n",
        "\n",
        "    # Number of training examples\n",
        "    m = x.shape[0]\n",
        "    dj_dw = 0\n",
        "    dj_db = 0\n",
        "\n",
        "    ### START CODE HERE ###\n",
        "    y_predicted=w*x+b\n",
        "\n",
        "    # Compute the gradients\n",
        "    dj_dw = (1/m) * np.sum((y_predicted - y) * x)\n",
        "    dj_db = (1/m) * np.sum(y_predicted - y)\n",
        "    ### END CODE HERE ###\n",
        "\n",
        "    return dj_dw, dj_db"
      ],
      "metadata": {
        "id": "sPdeLd36OprD"
      },
      "execution_count": 14,
      "outputs": []
    },
    {
      "cell_type": "code",
      "source": [
        "initial_w = 0.998\n",
        "initial_b = 1\n",
        "\n",
        "tmp_dj_dw, tmp_dj_db = compute_gradient(X_train, y_train, initial_w, initial_b)\n",
        "print('Gradient at initial w, b (zeros):', tmp_dj_dw, tmp_dj_db)\n",
        "\n",
        "# output should be\n",
        "#Gradient at initial w, b (zeros): [22.08482317] [0.36802405]"
      ],
      "metadata": {
        "id": "HpFMpdz3apMN",
        "outputId": "6ea79ef4-bb3d-44dc-aaf4-d1c00ee6c3be",
        "colab": {
          "base_uri": "https://localhost:8080/"
        }
      },
      "execution_count": 15,
      "outputs": [
        {
          "output_type": "stream",
          "name": "stdout",
          "text": [
            "Gradient at initial w, b (zeros): 20.935944915 0.25789700000000004\n"
          ]
        }
      ]
    },
    {
      "cell_type": "code",
      "source": [
        "test_w = 0.2\n",
        "test_b = 0.2\n",
        "tmp_dj_dw, tmp_dj_db = compute_gradient(X_train, y_train, test_w, test_b)\n",
        "\n",
        "print('Gradient at test w, b:', tmp_dj_dw, tmp_dj_db)\n",
        "\n",
        "#output should be\n",
        "#Gradient at test w, b: [-600.2060557] [-21.2052925]"
      ],
      "metadata": {
        "id": "LmTTHbvta8Jb",
        "outputId": "0e2df5fb-6760-4128-c61e-ab24c4bb1ff3",
        "colab": {
          "base_uri": "https://localhost:8080/"
        }
      },
      "execution_count": 16,
      "outputs": [
        {
          "output_type": "stream",
          "name": "stdout",
          "text": [
            "Gradient at test w, b: -603.2381765 -21.3312\n"
          ]
        }
      ]
    },
    {
      "cell_type": "markdown",
      "source": [
        "**!! do not change the below function just run it**"
      ],
      "metadata": {
        "id": "TicRvanCiaUd"
      }
    },
    {
      "cell_type": "code",
      "source": [
        "\n",
        "def gradient_descent(x, y, w_in, b_in, cost_function, gradient_function, alpha, num_iters):\n",
        "    m = len(x)\n",
        "    J_history = []\n",
        "    w_history = []\n",
        "    w = copy.deepcopy(w_in)\n",
        "    b = b_in\n",
        "    for i in range(num_iters):\n",
        "        dj_dw, dj_db = gradient_function(x, y, w, b )\n",
        "        w = w - alpha * dj_dw\n",
        "        b = b - alpha * dj_db\n",
        "        if i<100000:\n",
        "            cost =  cost_function(x, y, w, b)\n",
        "            J_history.append(cost)\n",
        "        if i% math.ceil(num_iters/10) == 0:\n",
        "            w_history.append(w)\n",
        "            print(f\"Iteration {i:4}: Cost {float(J_history[-1]):8.2f}   \")\n",
        "    return w, b, J_history, w_history"
      ],
      "metadata": {
        "id": "GE4SDXh4bB1X"
      },
      "execution_count": 17,
      "outputs": []
    },
    {
      "cell_type": "markdown",
      "source": [
        " **Now let's run the gradient descent algorithm above to learn the parameters for our dataset.**"
      ],
      "metadata": {
        "id": "Bc1f_EKlbGW4"
      }
    },
    {
      "cell_type": "code",
      "source": [
        "# you can alter the values of iterations, alpha to get the minimum cost and minimum values for w and b\n",
        "\n",
        "\n",
        "# initialize fitting parameters. Recall that the shape of w is (n,)\n",
        "initial_w = 0.\n",
        "initial_b = 0.\n",
        "\n",
        "# some gradient descent settings\n",
        "iterations = 38000\n",
        "alpha = 0.001\n",
        "\n",
        "w,b,_,_ = gradient_descent(X_train ,y_train, initial_w, initial_b,\n",
        "                     compute_cost, compute_gradient, alpha, iterations)\n",
        "print(\"w,b found by gradient descent:\", w, b)"
      ],
      "metadata": {
        "id": "_hzhg0bdbGi9",
        "outputId": "ae71a6c6-4ca7-42e1-e329-8e96894c0c18",
        "colab": {
          "base_uri": "https://localhost:8080/"
        }
      },
      "execution_count": 37,
      "outputs": [
        {
          "output_type": "stream",
          "name": "stdout",
          "text": [
            "Iteration    0: Cost    37.27   \n",
            "Iteration 3800: Cost    13.89   \n",
            "Iteration 7600: Cost    13.51   \n",
            "Iteration 11400: Cost    13.33   \n",
            "Iteration 15200: Cost    13.25   \n",
            "Iteration 19000: Cost    13.21   \n",
            "Iteration 22800: Cost    13.20   \n",
            "Iteration 26600: Cost    13.19   \n",
            "Iteration 30400: Cost    13.18   \n",
            "Iteration 34200: Cost    13.18   \n",
            "w,b found by gradient descent: 0.8181479658817865 5.4159727876097135\n"
          ]
        }
      ]
    },
    {
      "cell_type": "markdown",
      "source": [
        "**Train the model**"
      ],
      "metadata": {
        "id": "3cT9bBALbN_W"
      }
    },
    {
      "cell_type": "code",
      "source": [
        "# execute the code to predict the output values on the given imput of numpy arrays\n",
        "# do not alter the code just execute it\n",
        "m = X_train.shape[0]\n",
        "predicted = np.zeros(m)\n",
        "\n",
        "for i in range(m):\n",
        "    predicted[i] = w * X_train[i] + b"
      ],
      "metadata": {
        "id": "qAlMyoy1bOLi",
        "outputId": "db0467b7-e202-40d2-9e06-069a31c8383e",
        "colab": {
          "base_uri": "https://localhost:8080/",
          "height": 469
        }
      },
      "execution_count": 35,
      "outputs": [
        {
          "output_type": "error",
          "ename": "KeyError",
          "evalue": "1",
          "traceback": [
            "\u001b[0;31m---------------------------------------------------------------------------\u001b[0m",
            "\u001b[0;31mKeyError\u001b[0m                                  Traceback (most recent call last)",
            "\u001b[0;32m/usr/local/lib/python3.10/dist-packages/pandas/core/indexes/base.py\u001b[0m in \u001b[0;36mget_loc\u001b[0;34m(self, key, method, tolerance)\u001b[0m\n\u001b[1;32m   3801\u001b[0m             \u001b[0;32mtry\u001b[0m\u001b[0;34m:\u001b[0m\u001b[0;34m\u001b[0m\u001b[0;34m\u001b[0m\u001b[0m\n\u001b[0;32m-> 3802\u001b[0;31m                 \u001b[0;32mreturn\u001b[0m \u001b[0mself\u001b[0m\u001b[0;34m.\u001b[0m\u001b[0m_engine\u001b[0m\u001b[0;34m.\u001b[0m\u001b[0mget_loc\u001b[0m\u001b[0;34m(\u001b[0m\u001b[0mcasted_key\u001b[0m\u001b[0;34m)\u001b[0m\u001b[0;34m\u001b[0m\u001b[0;34m\u001b[0m\u001b[0m\n\u001b[0m\u001b[1;32m   3803\u001b[0m             \u001b[0;32mexcept\u001b[0m \u001b[0mKeyError\u001b[0m \u001b[0;32mas\u001b[0m \u001b[0merr\u001b[0m\u001b[0;34m:\u001b[0m\u001b[0;34m\u001b[0m\u001b[0;34m\u001b[0m\u001b[0m\n",
            "\u001b[0;32m/usr/local/lib/python3.10/dist-packages/pandas/_libs/index.pyx\u001b[0m in \u001b[0;36mpandas._libs.index.IndexEngine.get_loc\u001b[0;34m()\u001b[0m\n",
            "\u001b[0;32m/usr/local/lib/python3.10/dist-packages/pandas/_libs/index.pyx\u001b[0m in \u001b[0;36mpandas._libs.index.IndexEngine.get_loc\u001b[0;34m()\u001b[0m\n",
            "\u001b[0;32mpandas/_libs/hashtable_class_helper.pxi\u001b[0m in \u001b[0;36mpandas._libs.hashtable.Int64HashTable.get_item\u001b[0;34m()\u001b[0m\n",
            "\u001b[0;32mpandas/_libs/hashtable_class_helper.pxi\u001b[0m in \u001b[0;36mpandas._libs.hashtable.Int64HashTable.get_item\u001b[0;34m()\u001b[0m\n",
            "\u001b[0;31mKeyError\u001b[0m: 1",
            "\nThe above exception was the direct cause of the following exception:\n",
            "\u001b[0;31mKeyError\u001b[0m                                  Traceback (most recent call last)",
            "\u001b[0;32m<ipython-input-35-e13a08243ee5>\u001b[0m in \u001b[0;36m<cell line: 6>\u001b[0;34m()\u001b[0m\n\u001b[1;32m      5\u001b[0m \u001b[0;34m\u001b[0m\u001b[0m\n\u001b[1;32m      6\u001b[0m \u001b[0;32mfor\u001b[0m \u001b[0mi\u001b[0m \u001b[0;32min\u001b[0m \u001b[0mrange\u001b[0m\u001b[0;34m(\u001b[0m\u001b[0mm\u001b[0m\u001b[0;34m)\u001b[0m\u001b[0;34m:\u001b[0m\u001b[0;34m\u001b[0m\u001b[0;34m\u001b[0m\u001b[0m\n\u001b[0;32m----> 7\u001b[0;31m     \u001b[0mpredicted\u001b[0m\u001b[0;34m[\u001b[0m\u001b[0mi\u001b[0m\u001b[0;34m]\u001b[0m \u001b[0;34m=\u001b[0m \u001b[0mw\u001b[0m \u001b[0;34m*\u001b[0m \u001b[0mX_train\u001b[0m\u001b[0;34m[\u001b[0m\u001b[0mi\u001b[0m\u001b[0;34m]\u001b[0m \u001b[0;34m+\u001b[0m \u001b[0mb\u001b[0m\u001b[0;34m\u001b[0m\u001b[0;34m\u001b[0m\u001b[0m\n\u001b[0m",
            "\u001b[0;32m/usr/local/lib/python3.10/dist-packages/pandas/core/series.py\u001b[0m in \u001b[0;36m__getitem__\u001b[0;34m(self, key)\u001b[0m\n\u001b[1;32m    979\u001b[0m \u001b[0;34m\u001b[0m\u001b[0m\n\u001b[1;32m    980\u001b[0m         \u001b[0;32melif\u001b[0m \u001b[0mkey_is_scalar\u001b[0m\u001b[0;34m:\u001b[0m\u001b[0;34m\u001b[0m\u001b[0;34m\u001b[0m\u001b[0m\n\u001b[0;32m--> 981\u001b[0;31m             \u001b[0;32mreturn\u001b[0m \u001b[0mself\u001b[0m\u001b[0;34m.\u001b[0m\u001b[0m_get_value\u001b[0m\u001b[0;34m(\u001b[0m\u001b[0mkey\u001b[0m\u001b[0;34m)\u001b[0m\u001b[0;34m\u001b[0m\u001b[0;34m\u001b[0m\u001b[0m\n\u001b[0m\u001b[1;32m    982\u001b[0m \u001b[0;34m\u001b[0m\u001b[0m\n\u001b[1;32m    983\u001b[0m         \u001b[0;32mif\u001b[0m \u001b[0mis_hashable\u001b[0m\u001b[0;34m(\u001b[0m\u001b[0mkey\u001b[0m\u001b[0;34m)\u001b[0m\u001b[0;34m:\u001b[0m\u001b[0;34m\u001b[0m\u001b[0;34m\u001b[0m\u001b[0m\n",
            "\u001b[0;32m/usr/local/lib/python3.10/dist-packages/pandas/core/series.py\u001b[0m in \u001b[0;36m_get_value\u001b[0;34m(self, label, takeable)\u001b[0m\n\u001b[1;32m   1087\u001b[0m \u001b[0;34m\u001b[0m\u001b[0m\n\u001b[1;32m   1088\u001b[0m         \u001b[0;31m# Similar to Index.get_value, but we do not fall back to positional\u001b[0m\u001b[0;34m\u001b[0m\u001b[0;34m\u001b[0m\u001b[0m\n\u001b[0;32m-> 1089\u001b[0;31m         \u001b[0mloc\u001b[0m \u001b[0;34m=\u001b[0m \u001b[0mself\u001b[0m\u001b[0;34m.\u001b[0m\u001b[0mindex\u001b[0m\u001b[0;34m.\u001b[0m\u001b[0mget_loc\u001b[0m\u001b[0;34m(\u001b[0m\u001b[0mlabel\u001b[0m\u001b[0;34m)\u001b[0m\u001b[0;34m\u001b[0m\u001b[0;34m\u001b[0m\u001b[0m\n\u001b[0m\u001b[1;32m   1090\u001b[0m         \u001b[0;32mreturn\u001b[0m \u001b[0mself\u001b[0m\u001b[0;34m.\u001b[0m\u001b[0mindex\u001b[0m\u001b[0;34m.\u001b[0m\u001b[0m_get_values_for_loc\u001b[0m\u001b[0;34m(\u001b[0m\u001b[0mself\u001b[0m\u001b[0;34m,\u001b[0m \u001b[0mloc\u001b[0m\u001b[0;34m,\u001b[0m \u001b[0mlabel\u001b[0m\u001b[0;34m)\u001b[0m\u001b[0;34m\u001b[0m\u001b[0;34m\u001b[0m\u001b[0m\n\u001b[1;32m   1091\u001b[0m \u001b[0;34m\u001b[0m\u001b[0m\n",
            "\u001b[0;32m/usr/local/lib/python3.10/dist-packages/pandas/core/indexes/base.py\u001b[0m in \u001b[0;36mget_loc\u001b[0;34m(self, key, method, tolerance)\u001b[0m\n\u001b[1;32m   3802\u001b[0m                 \u001b[0;32mreturn\u001b[0m \u001b[0mself\u001b[0m\u001b[0;34m.\u001b[0m\u001b[0m_engine\u001b[0m\u001b[0;34m.\u001b[0m\u001b[0mget_loc\u001b[0m\u001b[0;34m(\u001b[0m\u001b[0mcasted_key\u001b[0m\u001b[0;34m)\u001b[0m\u001b[0;34m\u001b[0m\u001b[0;34m\u001b[0m\u001b[0m\n\u001b[1;32m   3803\u001b[0m             \u001b[0;32mexcept\u001b[0m \u001b[0mKeyError\u001b[0m \u001b[0;32mas\u001b[0m \u001b[0merr\u001b[0m\u001b[0;34m:\u001b[0m\u001b[0;34m\u001b[0m\u001b[0;34m\u001b[0m\u001b[0m\n\u001b[0;32m-> 3804\u001b[0;31m                 \u001b[0;32mraise\u001b[0m \u001b[0mKeyError\u001b[0m\u001b[0;34m(\u001b[0m\u001b[0mkey\u001b[0m\u001b[0;34m)\u001b[0m \u001b[0;32mfrom\u001b[0m \u001b[0merr\u001b[0m\u001b[0;34m\u001b[0m\u001b[0;34m\u001b[0m\u001b[0m\n\u001b[0m\u001b[1;32m   3805\u001b[0m             \u001b[0;32mexcept\u001b[0m \u001b[0mTypeError\u001b[0m\u001b[0;34m:\u001b[0m\u001b[0;34m\u001b[0m\u001b[0;34m\u001b[0m\u001b[0m\n\u001b[1;32m   3806\u001b[0m                 \u001b[0;31m# If we have a listlike key, _check_indexing_error will raise\u001b[0m\u001b[0;34m\u001b[0m\u001b[0;34m\u001b[0m\u001b[0m\n",
            "\u001b[0;31mKeyError\u001b[0m: 1"
          ]
        }
      ]
    },
    {
      "cell_type": "markdown",
      "source": [
        "**plot the predicted values to see the linear fit.**"
      ],
      "metadata": {
        "id": "XbgzCEZbi4rW"
      }
    },
    {
      "cell_type": "code",
      "source": [
        "# Plot the linear fit\n",
        "\n",
        "###code starts here\n",
        "\n",
        "\n",
        "\n",
        "\n",
        "\n",
        "\n",
        "\n",
        "\n",
        "\n",
        "\n",
        "\n",
        "\n",
        "\n",
        "\n",
        "\n",
        "\n",
        "###code ends here\n"
      ],
      "metadata": {
        "id": "PywvzENQbSW6"
      },
      "execution_count": null,
      "outputs": []
    },
    {
      "cell_type": "markdown",
      "source": [
        "**output on input values**\n",
        "\n",
        "**Predict output on input values(in months) [17.0,50.0]**"
      ],
      "metadata": {
        "id": "tbAiwo3BbZIW"
      }
    },
    {
      "cell_type": "code",
      "source": [
        "###code starts here\n",
        "\n",
        "\n",
        "\n",
        "\n",
        "\n",
        "###code ends here"
      ],
      "metadata": {
        "id": "tbV22QAIbbtU"
      },
      "execution_count": null,
      "outputs": []
    }
  ]
}